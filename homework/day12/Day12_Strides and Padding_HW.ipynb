{
 "cells": [
  {
   "cell_type": "markdown",
   "metadata": {
    "colab_type": "text",
    "id": "0BBfdBwkyTiQ"
   },
   "source": [
    "## 『作業內容』\n",
    "####   依照指示，透過調整Padding、Strides參數控制輸出Feature map大小\n"
   ]
  },
  {
   "cell_type": "markdown",
   "metadata": {
    "colab_type": "text",
    "id": "7CtbcEb4yTiT"
   },
   "source": [
    "## 『目標』\n",
    "####   了解輸出feature map尺寸變化原理"
   ]
  },
  {
   "cell_type": "code",
   "execution_count": 16,
   "metadata": {},
   "outputs": [],
   "source": [
    "from keras.models import Sequential\n",
    "from keras.layers import Convolution2D\n",
    "from keras.layers import Input, Dense\n",
    "from keras.models import Model\n",
    "\n",
    "\n"
   ]
  },
  {
   "cell_type": "code",
   "execution_count": 20,
   "metadata": {},
   "outputs": [
    {
     "name": "stdout",
     "output_type": "stream",
     "text": "_________________________________________________________________\nLayer (type)                 Output Shape              Param #   \n=================================================================\ninput_39 (InputLayer)        (None, 13, 13, 1)         0         \n_________________________________________________________________\nconv2d_36 (Conv2D)           (None, 13, 13, 32)        1184      \n=================================================================\nTotal params: 1,184\nTrainable params: 1,184\nNon-trainable params: 0\n_________________________________________________________________\n_________________________________________________________________\nLayer (type)                 Output Shape              Param #   \n=================================================================\ninput_40 (InputLayer)        (None, 13, 13, 1)         0         \n_________________________________________________________________\nconv2d_37 (Conv2D)           (None, 7, 7, 32)          1184      \n=================================================================\nTotal params: 1,184\nTrainable params: 1,184\nNon-trainable params: 0\n_________________________________________________________________\n_________________________________________________________________\nLayer (type)                 Output Shape              Param #   \n=================================================================\ninput_41 (InputLayer)        (None, 13, 13, 1)         0         \n_________________________________________________________________\nconv2d_38 (Conv2D)           (None, 8, 8, 32)          1184      \n=================================================================\nTotal params: 1,184\nTrainable params: 1,184\nNon-trainable params: 0\n_________________________________________________________________\n_________________________________________________________________\nLayer (type)                 Output Shape              Param #   \n=================================================================\ninput_42 (InputLayer)        (None, 13, 13, 1)         0         \n_________________________________________________________________\nconv2d_39 (Conv2D)           (None, 4, 4, 32)          1184      \n=================================================================\nTotal params: 1,184\nTrainable params: 1,184\nNon-trainable params: 0\n_________________________________________________________________\n"
    }
   ],
   "source": [
    "##kernel size=(6,6)\n",
    "##kernel數量：32\n",
    "\n",
    "## Same padding、strides=(1,1)\n",
    "# SMAE: 公式 ceil(13/1) = 13\n",
    "\n",
    "classifier=Sequential()\n",
    "inputs = Input(shape=(13,13,1))\n",
    "x=Convolution2D(32,(6, 6), padding=\"same\", strides=(1, 1))(inputs)\n",
    "# x=Convolution2D(filters=32, kernel_size=(6,6), padding=\"same\", strides=(1, 1))(inputs)\n",
    "model = Model(inputs=inputs, outputs=x)\n",
    "model.summary()\n",
    "\n",
    "## Same padding、strides=(2,2)\n",
    "# SMAE: 公式 ceil(13/2) = 6.5(7)\n",
    "\n",
    "classifier=Sequential()\n",
    "inputs = Input(shape=(13,13,1))\n",
    "x=Convolution2D(filters=32, kernel_size=(6,6), padding=\"same\", strides=(2, 2))(inputs)\n",
    "model = Model(inputs=inputs, outputs=x)\n",
    "model.summary()\n",
    "\n",
    "## Valid padding、strides=(1,1)\n",
    "# Valid: 公式 ceil((13-6+1)/1) = 8\n",
    "\n",
    "classifier=Sequential()\n",
    "inputs = Input(shape=(13,13,1))\n",
    "x=Convolution2D(32,(6, 6), padding=\"Valid\", strides=(1,1))(inputs)\n",
    "model = Model(inputs=inputs, outputs=x)\n",
    "model.summary()\n",
    "\n",
    "## Valid padding、strides=(2,2)\n",
    "# Valid: 公式 ceil((13-6+1)/2) = 4\n",
    "\n",
    "classifier=Sequential()\n",
    "inputs = Input(shape=(13,13,1))\n",
    "x=Convolution2D(32,(6, 6), padding=\"Valid\", strides=(2,2))(inputs)\n",
    "model = Model(inputs=inputs, outputs=x)\n",
    "model.summary()\n"
   ]
  },
  {
   "cell_type": "code",
   "execution_count": null,
   "metadata": {},
   "outputs": [],
   "source": []
  },
  {
   "cell_type": "code",
   "execution_count": null,
   "metadata": {},
   "outputs": [],
   "source": []
  }
 ],
 "metadata": {
  "colab": {
   "name": "Strides and Padding.ipynb",
   "provenance": []
  },
  "kernelspec": {
   "display_name": "Python 3",
   "language": "python",
   "name": "python3"
  },
  "language_info": {
   "codemirror_mode": {
    "name": "ipython",
    "version": 3
   },
   "file_extension": ".py",
   "mimetype": "text/x-python",
   "name": "python",
   "nbconvert_exporter": "python",
   "pygments_lexer": "ipython3",
   "version": "3.7.4-final"
  }
 },
 "nbformat": 4,
 "nbformat_minor": 1
}